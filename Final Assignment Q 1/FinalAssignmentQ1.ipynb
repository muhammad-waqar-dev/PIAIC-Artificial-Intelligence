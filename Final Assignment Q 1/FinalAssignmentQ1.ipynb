{
 "cells": [
  {
   "cell_type": "markdown",
   "metadata": {},
   "source": [
    "#                                         Final Assinment Q_1\n",
    "#                                           Muhammad Waqar\n",
    "#                                           Roll # AIC 000 112\n",
    "#                                           Sindh Boys Scout\n",
    "#                                                Sir Qasim"
   ]
  },
  {
   "cell_type": "markdown",
   "metadata": {},
   "source": [
    "# Area of a Circle"
   ]
  },
  {
   "cell_type": "code",
   "execution_count": 1,
   "metadata": {},
   "outputs": [
    {
     "name": "stdout",
     "output_type": "stream",
     "text": [
      "Enter the radius of the circle:7\n",
      "Area of the circle : 153.86\n"
     ]
    }
   ],
   "source": [
    "pi_constant = 3.14\n",
    "r = float(input(\"Enter the radius of the circle:\"))\n",
    "Area = pi_constant * r * r\n",
    "print(\"Area of the circle :\", Area)"
   ]
  },
  {
   "cell_type": "markdown",
   "metadata": {},
   "source": [
    "# Find Positive, Negative and Zero Numbers"
   ]
  },
  {
   "cell_type": "code",
   "execution_count": 2,
   "metadata": {},
   "outputs": [
    {
     "name": "stdout",
     "output_type": "stream",
     "text": [
      "Enter Your Number4.5\n",
      "Positive Number\n"
     ]
    }
   ],
   "source": [
    "x = float(input(\"Enter Your Number\"))\n",
    "if(x > 0):\n",
    "    print(\"Positive Number\")\n",
    "elif(x == 0):\n",
    "    print(\"Zero Number\")\n",
    "else:\n",
    "    print(\"Negative Number\")"
   ]
  },
  {
   "cell_type": "markdown",
   "metadata": {},
   "source": [
    "# Division of two Numbers"
   ]
  },
  {
   "cell_type": "code",
   "execution_count": 3,
   "metadata": {},
   "outputs": [
    {
     "name": "stdout",
     "output_type": "stream",
     "text": [
      "Enter First Number 8.6\n",
      "Enter Second Number 5.3\n",
      "Number  8.6 is not completely divided by  5.3\n"
     ]
    }
   ],
   "source": [
    "a=float(input(\"Enter First Number \"))\n",
    "b=float(input(\"Enter Second Number \"))\n",
    "\n",
    "if(a % b == 0):\n",
    "    print('Number ', a , 'is completely divided by ', b)\n",
    "else:\n",
    "    print('Number ', a , 'is not completely divided by ', b)"
   ]
  },
  {
   "cell_type": "markdown",
   "metadata": {},
   "source": [
    "# Calculate Number of Days"
   ]
  },
  {
   "cell_type": "code",
   "execution_count": 1,
   "metadata": {},
   "outputs": [
    {
     "name": "stdout",
     "output_type": "stream",
     "text": [
      "Enter a date in (dd/mm/yy) format: 25/6/2018\n",
      "Enter a date in (dd/mm/yy) format: 6/4/2019\n",
      "There are 285 days in between 25/6/2018 and 6/4/2019\n"
     ]
    }
   ],
   "source": [
    "from datetime import datetime\n",
    "date_format = \"%d/%m/%Y\"\n",
    "a = input(\"Enter a date in (dd/mm/yy) format: \")\n",
    "b = input(\"Enter a date in (dd/mm/yy) format: \")\n",
    "c = datetime.strptime( a , date_format)\n",
    "d = datetime.strptime( b , date_format)\n",
    "change = d - c\n",
    "print (\"There are\", change.days, \"days in between\", a , \"and\" , b)"
   ]
  },
  {
   "cell_type": "markdown",
   "metadata": {},
   "source": [
    "# Volume of a sphere"
   ]
  },
  {
   "cell_type": "code",
   "execution_count": 1,
   "metadata": {},
   "outputs": [
    {
     "name": "stdout",
     "output_type": "stream",
     "text": [
      "Enter radius of sphere8\n",
      "The volume of sphere: 1206.528\n"
     ]
    }
   ],
   "source": [
    "pi = 3.142\n",
    "r = float(input(\"Enter radius of sphere\"))\n",
    "v = (3/4)*pi*r**3\n",
    "print(\"The volume of sphere:\",v)"
   ]
  },
  {
   "cell_type": "markdown",
   "metadata": {},
   "source": [
    "# Print Strings n Times"
   ]
  },
  {
   "cell_type": "code",
   "execution_count": 2,
   "metadata": {},
   "outputs": [
    {
     "name": "stdout",
     "output_type": "stream",
     "text": [
      "Enter String:waqar \n",
      "How many copies of String you need:4\n",
      "waqar waqar waqar waqar \n"
     ]
    }
   ],
   "source": [
    "string = input(\"Enter String:\")\n",
    "No_of_copies = int(input(\"How many copies of String you need:\"))\n",
    "x=string*No_of_copies\n",
    "print(x)"
   ]
  },
  {
   "cell_type": "markdown",
   "metadata": {},
   "source": [
    "# Check Even or Odd Number"
   ]
  },
  {
   "cell_type": "code",
   "execution_count": 3,
   "metadata": {},
   "outputs": [
    {
     "name": "stdout",
     "output_type": "stream",
     "text": [
      "Enter Number:7\n",
      "7 is Odd Number\n"
     ]
    }
   ],
   "source": [
    "num = int(input(\"Enter Number:\"))\n",
    "if(num % 2 == 0):\n",
    "    print(f\"{num} is Even Number\")\n",
    "else:\n",
    "    print(f\"{num} is Odd Number\")"
   ]
  },
  {
   "cell_type": "markdown",
   "metadata": {},
   "source": [
    "# Check Vowel or Consonent"
   ]
  },
  {
   "cell_type": "code",
   "execution_count": 1,
   "metadata": {},
   "outputs": [
    {
     "name": "stdout",
     "output_type": "stream",
     "text": [
      "Enter a letter of the alphabet: a\n",
      "vowel\n"
     ]
    }
   ],
   "source": [
    "num = input(\"Enter a letter of the alphabet: \")\n",
    "\n",
    "if(num in ('a', 'e', 'i', 'o', 'u')):\n",
    "    print(\"vowel\")\n",
    "else:\n",
    "    print(\"consonant\")"
   ]
  },
  {
   "cell_type": "markdown",
   "metadata": {},
   "source": [
    "# Area of Triangle"
   ]
  },
  {
   "cell_type": "code",
   "execution_count": 3,
   "metadata": {},
   "outputs": [
    {
     "name": "stdout",
     "output_type": "stream",
     "text": [
      "Enter base of Triangle 3\n",
      "Enter height of Triangle 4\n",
      "Area of a Triangle  6.0\n"
     ]
    }
   ],
   "source": [
    "b = int(input(\"Enter base of Triangle \"))\n",
    "h = int(input(\"Enter height of Triangle \"))\n",
    "Area = float(0.5*b*h)\n",
    "print(\"Area of a Triangle \", Area)"
   ]
  },
  {
   "cell_type": "markdown",
   "metadata": {},
   "source": [
    "# Calculate Interest Rate"
   ]
  },
  {
   "cell_type": "code",
   "execution_count": 1,
   "metadata": {},
   "outputs": [
    {
     "name": "stdout",
     "output_type": "stream",
     "text": [
      "Please enter principal amount:100000\n",
      "Please Enter Rate of interest in %:10\n",
      "Enter number of years for investment:10\n",
      "Future Value =  259374.24601000024\n"
     ]
    }
   ],
   "source": [
    "PMT = float(input(\"Please enter principal amount:\"))\n",
    "Interest_rate = float(input(\"Please Enter Rate of interest in %:\"))\n",
    "years = float(input(\"Enter number of years for investment:\"))\n",
    "\n",
    "future_value = PMT*((1+(0.01*Interest_rate)) ** years)\n",
    "print(\"Future Value = \",future_value)"
   ]
  },
  {
   "cell_type": "markdown",
   "metadata": {},
   "source": [
    "# Euclidian Distance"
   ]
  },
  {
   "cell_type": "code",
   "execution_count": 2,
   "metadata": {},
   "outputs": [
    {
     "name": "stdout",
     "output_type": "stream",
     "text": [
      "Enter Co-ordinate for x1: 5\n",
      "Enter Co-ordinate for x2: 4\n",
      "Enter Co-ordinate for y1: 9\n",
      "Enter Co-ordinate for y2: 8\n",
      "Distance between points 1.4142135623730951\n"
     ]
    }
   ],
   "source": [
    "import math\n",
    "\n",
    "x1 = int(input(\"Enter Co-ordinate for x1: \"))\n",
    "x2 = int(input(\"Enter Co-ordinate for x2: \"))\n",
    "y1 = int(input(\"Enter Co-ordinate for y1: \"))\n",
    "y2 = int(input(\"Enter Co-ordinate for y2: \"))\n",
    "\n",
    "Equi_Distance = math.sqrt(((x2 - x1)**2)+((y2 - y1)**2))\n",
    "print(\"Distance between points\", Equi_Distance)"
   ]
  },
  {
   "cell_type": "markdown",
   "metadata": {},
   "source": [
    "# Convert feet into centimeter"
   ]
  },
  {
   "cell_type": "code",
   "execution_count": 1,
   "metadata": {},
   "outputs": [
    {
     "name": "stdout",
     "output_type": "stream",
     "text": [
      "Input your height in Feet: 50.6\n",
      "50.6 feet into cm is  1542.288\n"
     ]
    }
   ],
   "source": [
    "feet = float(input(\"Input your height in Feet: \"))\n",
    "cm = feet * 30.48\n",
    "\n",
    "print(f\"{feet} feet into cm is \",cm)"
   ]
  },
  {
   "cell_type": "markdown",
   "metadata": {},
   "source": [
    "# Metric BMI Calculator"
   ]
  },
  {
   "cell_type": "code",
   "execution_count": 5,
   "metadata": {},
   "outputs": [
    {
     "name": "stdout",
     "output_type": "stream",
     "text": [
      "Enter Height in Cm: 450\n",
      "Enter Weight in Kg: 65\n",
      "Your BMI is:  3.21\n"
     ]
    }
   ],
   "source": [
    "heightInCm = float(input(\"Enter Height in Cm: \"))\n",
    "weightInKg = float(input(\"Enter Weight in Kg: \"))\n",
    "BMI=round(weightInKg /((heightInCm/100)**2),2)\n",
    "print(\"Your BMI is: \", BMI)"
   ]
  },
  {
   "cell_type": "markdown",
   "metadata": {},
   "source": [
    "# Sum of N Integers"
   ]
  },
  {
   "cell_type": "code",
   "execution_count": 1,
   "metadata": {},
   "outputs": [
    {
     "name": "stdout",
     "output_type": "stream",
     "text": [
      "Enter value of n: 450\n",
      "Sum of n Integers is  101475.0\n"
     ]
    }
   ],
   "source": [
    "num = int(input(\"Enter value of n: \"))\n",
    "sum_num = (num * (num + 1)) / 2\n",
    "print(\"Sum of n Integers is \",sum_num)"
   ]
  },
  {
   "cell_type": "markdown",
   "metadata": {},
   "source": [
    "# Sum of four Numbers"
   ]
  },
  {
   "cell_type": "code",
   "execution_count": 2,
   "metadata": {},
   "outputs": [
    {
     "name": "stdout",
     "output_type": "stream",
     "text": [
      "Input a four digit numbers: 7869\n",
      "The sum of four numbers is 30\n"
     ]
    }
   ],
   "source": [
    "num = int(input(\"Input a four digit numbers: \"))\n",
    "x  = num //1000\n",
    "x1 = (num - x*1000)//100\n",
    "x2 = (num - x*1000 - x1*100)//10\n",
    "x3 = num - x*1000 - x1*100 - x2*10\n",
    "s = x + x1 + x2 + x3\n",
    "print(\"The sum of four numbers is\", s)"
   ]
  },
  {
   "cell_type": "markdown",
   "metadata": {},
   "source": [
    "# Convert Decimal into Binary Numbers"
   ]
  },
  {
   "cell_type": "code",
   "execution_count": 3,
   "metadata": {},
   "outputs": [
    {
     "name": "stdout",
     "output_type": "stream",
     "text": [
      "Enter decimal number: 78\n",
      "The binary no. for 78 is 01001110\n"
     ]
    }
   ],
   "source": [
    "n=int(input('Enter decimal number: '))\n",
    "x=n\n",
    "k=[]\n",
    "while (n>0):\n",
    "    a=int(float(n%2))\n",
    "    k.append(a)\n",
    "    n=(n-a)/2\n",
    "k.append(0)\n",
    "string=\"\"\n",
    "for j in k[::-1]:\n",
    "    string=string+str(j)\n",
    "print('The binary no. for %d is %s'%(x, string))"
   ]
  },
  {
   "cell_type": "markdown",
   "metadata": {},
   "source": [
    "# Convert Binary into Decimal Numbers"
   ]
  },
  {
   "cell_type": "code",
   "execution_count": 6,
   "metadata": {},
   "outputs": [
    {
     "name": "stdout",
     "output_type": "stream",
     "text": [
      "Enter a Binary number: 01001110\n",
      "Decimal digit is 78\n"
     ]
    }
   ],
   "source": [
    "bin_num = list(input(\"Enter a Binary number: \"))\n",
    "value = 0\n",
    "\n",
    "for i in range(len(bin_num)):\n",
    "    digit = bin_num.pop()\n",
    "    if digit == '1':\n",
    "        value = value + pow(2, i)\n",
    "print(f\"Decimal digit is\", value)"
   ]
  },
  {
   "cell_type": "markdown",
   "metadata": {},
   "source": [
    "# Count Number of Vowels and Consonents in the given word"
   ]
  },
  {
   "cell_type": "code",
   "execution_count": 7,
   "metadata": {},
   "outputs": [
    {
     "name": "stdout",
     "output_type": "stream",
     "text": [
      "Enter text : welldone\n",
      "Total Number of Vowels in this String are 3\n",
      "Total Number of Consonants in this String are 5\n"
     ]
    }
   ],
   "source": [
    "str1 = input(\"Enter text : \")\n",
    "vowels = 0\n",
    "consonants = 0\n",
    "\n",
    "for i in str1:\n",
    "    if(i == 'a' or i == 'e' or i == 'i' or i == 'o' or i == 'u'\n",
    "       or i == 'A' or i == 'E' or i == 'I' or i == 'O' or i == 'U'):\n",
    "        vowels = vowels + 1\n",
    "    else:\n",
    "        consonants = consonants + 1\n",
    "print(\"Total Number of Vowels in this String are\", vowels)\n",
    "print(\"Total Number of Consonants in this String are\", consonants)"
   ]
  },
  {
   "cell_type": "markdown",
   "metadata": {},
   "source": [
    "# Palindrome"
   ]
  },
  {
   "cell_type": "code",
   "execution_count": 1,
   "metadata": {},
   "outputs": [
    {
     "name": "stdout",
     "output_type": "stream",
     "text": [
      "Enter String to check Palindrom:asabubasa\n",
      "It is palindrom\n"
     ]
    }
   ],
   "source": [
    "Value = str(input(\"Enter String to check Palindrom:\"))\n",
    "Value = Value.casefold() #casefold use for remove all data types strings\n",
    "\n",
    "Rev_Value = reversed(Value)\n",
    "\n",
    "if(list(Value) == list(Rev_Value)):\n",
    "    print(\"It is palindrom\")\n",
    "else:\n",
    "    print(\"Not a Palindrom\")"
   ]
  },
  {
   "cell_type": "markdown",
   "metadata": {},
   "source": [
    "# Count Alphabets,Digits,Spaces and Special Characters"
   ]
  },
  {
   "cell_type": "code",
   "execution_count": 2,
   "metadata": {},
   "outputs": [
    {
     "name": "stdout",
     "output_type": "stream",
     "text": [
      "Enter String: waqar 4848 #\n",
      "\n",
      "Alphabets :   5\n",
      "Numbers :   4\n",
      "Spaces : 2\n",
      "Special Characters :  1\n"
     ]
    }
   ],
   "source": [
    "string = input(\"Enter String: \")\n",
    "dig=alpha=space=special=0\n",
    "for i in string:\n",
    "    if i.isdigit():  #isdigits use for checking type of input\n",
    "        dig=dig+1\n",
    "    elif i.isalpha():\n",
    "        alpha=alpha+1\n",
    "    elif i.isspace():\n",
    "        space=space+1\n",
    "    else:\n",
    "        special=special+1\n",
    "print(\"\\nAlphabets :  \", alpha)\n",
    "print(\"Numbers :  \", dig)\n",
    "print(\"Spaces :\", space)\n",
    "print(\"Special Characters : \", special)"
   ]
  },
  {
   "cell_type": "markdown",
   "metadata": {},
   "source": [
    "# Floyd's Triangle Pattern"
   ]
  },
  {
   "cell_type": "code",
   "execution_count": 9,
   "metadata": {},
   "outputs": [
    {
     "name": "stdout",
     "output_type": "stream",
     "text": [
      "Enter value to draw Floyds Pattern : 10\n",
      "\n",
      "* \n",
      "* * \n",
      "* * * \n",
      "* * * * \n",
      "* * * * * \n",
      "* * * * * * \n",
      "* * * * * * * \n",
      "* * * * * * * * \n",
      "* * * * * * * * * \n",
      "* * * * * * * * * * \n",
      "* * * * * * * * * \n",
      "* * * * * * * * \n",
      "* * * * * * * \n",
      "* * * * * * \n",
      "* * * * * \n",
      "* * * * \n",
      "* * * \n",
      "* * \n",
      "* \n"
     ]
    }
   ],
   "source": [
    "n=int(input(\"Enter value to draw Floyds Pattern : \"))\n",
    "for i in range(n):\n",
    "    for j in range(i):\n",
    "        print ('* ', end=\"\")\n",
    "    print('')\n",
    "\n",
    "for i in range(n,0,-1):\n",
    "    for j in range(i):\n",
    "        print('* ', end=\"\")\n",
    "    print('')"
   ]
  },
  {
   "cell_type": "code",
   "execution_count": 12,
   "metadata": {},
   "outputs": [
    {
     "name": "stdout",
     "output_type": "stream",
     "text": [
      "1  \n",
      "1  2  \n",
      "1  2  3  \n",
      "1  2  3  4  \n",
      "1  2  3  4  5  \n",
      "1  2  3  4  5  6  \n",
      "1  2  3  4  5  6  7  \n",
      "1  2  3  4  5  6  7  8  \n",
      "1  2  3  4  5  6  7  8  9  \n",
      "1  2  3  4  5  6  7  8  9  10  \n"
     ]
    }
   ],
   "source": [
    "for i in range(1,11):\n",
    "    for j in range(1,i+1):\n",
    "        print(j,\" \",end=\"\")\n",
    "    print()"
   ]
  },
  {
   "cell_type": "code",
   "execution_count": 13,
   "metadata": {},
   "outputs": [
    {
     "name": "stdout",
     "output_type": "stream",
     "text": [
      "Enter a num: 10\n",
      "1  \n",
      "1  2  \n",
      "1  2  3  \n",
      "1  2  3  4  \n",
      "1  2  3  4  5  \n",
      "1  2  3  4  5  6  \n",
      "1  2  3  4  5  6  7  \n",
      "1  2  3  4  5  6  7  8  \n",
      "1  2  3  4  5  6  7  8  9  \n",
      "1  2  3  4  5  6  7  8  9  10  \n",
      "1  2  3  4  5  6  7  8  9  \n",
      "1  2  3  4  5  6  7  8  \n",
      "1  2  3  4  5  6  7  \n",
      "1  2  3  4  5  6  \n",
      "1  2  3  4  5  \n",
      "1  2  3  4  \n",
      "1  2  3  \n",
      "1  2  \n",
      "1  \n"
     ]
    }
   ],
   "source": [
    "n = int(input(\"Enter a num: \"))\n",
    "for i in range(1,n):\n",
    "    for j in range(1,i+1):\n",
    "        print(j,\" \",end=\"\")\n",
    "    print()\n",
    "for i in range(n,0,-1):\n",
    "    for j in range(1,i+1):\n",
    "        print(j,\" \",end=\"\")\n",
    "    print()"
   ]
  },
  {
   "cell_type": "code",
   "execution_count": 14,
   "metadata": {},
   "outputs": [
    {
     "name": "stdout",
     "output_type": "stream",
     "text": [
      "Enter a number of row: 10\n",
      "1  \n",
      "2  2  \n",
      "3  3  3  \n",
      "4  4  4  4  \n",
      "5  5  5  5  5  \n",
      "6  6  6  6  6  6  \n",
      "7  7  7  7  7  7  7  \n",
      "8  8  8  8  8  8  8  8  \n",
      "9  9  9  9  9  9  9  9  9  \n",
      "10  10  10  10  10  10  10  10  10  10  \n"
     ]
    }
   ],
   "source": [
    "n=int(input(\"Enter a number of row: \"))\n",
    "count=1\n",
    "for row in range(1,n+1):\n",
    "    for col in range(1,row+count):\n",
    "        print(row ,\" \",end=\"\")\n",
    "    print()"
   ]
  },
  {
   "cell_type": "code",
   "execution_count": 15,
   "metadata": {},
   "outputs": [],
   "source": [
    "#Assinment Completed Final"
   ]
  },
  {
   "cell_type": "code",
   "execution_count": null,
   "metadata": {},
   "outputs": [],
   "source": []
  }
 ],
 "metadata": {
  "kernelspec": {
   "display_name": "Python 3",
   "language": "python",
   "name": "python3"
  },
  "language_info": {
   "codemirror_mode": {
    "name": "ipython",
    "version": 3
   },
   "file_extension": ".py",
   "mimetype": "text/x-python",
   "name": "python",
   "nbconvert_exporter": "python",
   "pygments_lexer": "ipython3",
   "version": "3.7.1"
  }
 },
 "nbformat": 4,
 "nbformat_minor": 2
}
